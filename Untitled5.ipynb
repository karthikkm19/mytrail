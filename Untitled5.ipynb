{
 "cells": [
  {
   "cell_type": "markdown",
   "id": "a1af76b0",
   "metadata": {},
   "source": [
    "lets try"
   ]
  },
  {
   "cell_type": "code",
   "execution_count": 2,
   "id": "1a535e1b",
   "metadata": {},
   "outputs": [
    {
     "name": "stdout",
     "output_type": "stream",
     "text": [
      "Enter ur namdeyagdshjk\n",
      "ur nodu is  17.75568181818182\n"
     ]
    }
   ],
   "source": [
    "name=input(\"Enter ur namdeya\")\n",
    "height=169\n",
    "heightincm=176/100\n",
    "weight=55\n",
    "nodu=weight/(heightincm**2)\n",
    "print(\"ur nodu is \",nodu)"
   ]
  },
  {
   "cell_type": "code",
   "execution_count": 8,
   "id": "2c129e24",
   "metadata": {},
   "outputs": [
    {
     "name": "stdout",
     "output_type": "stream",
     "text": [
      "enter num of rows: 3\n"
     ]
    }
   ],
   "source": [
    "n = int(input('enter num of rows: '))\n",
    "for n in range(n-1,1):\n",
    "    for j in range(1,n-1):\n",
    "         print('*'*n)\n",
    "    print()    "
   ]
  },
  {
   "cell_type": "markdown",
   "id": "c8438422",
   "metadata": {},
   "source": [
    " import math\n",
    "r = int(input('radius of circle : '))\n",
    "area = math.pi*r**2\n",
    "print(area)\n",
    "\n",
    "\n",
    " \n",
    "\n",
    "\n"
   ]
  },
  {
   "cell_type": "code",
   "execution_count": 11,
   "id": "75e8c1a1",
   "metadata": {},
   "outputs": [
    {
     "name": "stdout",
     "output_type": "stream",
     "text": [
      "radius of circle : 4\n",
      "50.26548245743669\n"
     ]
    }
   ],
   "source": [
    "import math\n",
    "r = int(input('radius of circle : '))\n",
    "area = math.pi*r**2\n",
    "\n",
    "print(area)"
   ]
  },
  {
   "cell_type": "code",
   "execution_count": null,
   "id": "dbb6215d",
   "metadata": {},
   "outputs": [],
   "source": [
    "num=int(input(\"enter a num: \"))\n",
    "if num%3==0 and num%5==0:\n",
    "    print(\"mult by 3&5 :\")\n",
    "    elif num%3==0:\n",
    "        print(\"it mul 3 only :\")\n",
    "    elif num%5==0:\n",
    "        print('it numl by 5 only')\n",
    "else:\n",
    "        "
   ]
  },
  {
   "cell_type": "code",
   "execution_count": null,
   "id": "74313607",
   "metadata": {},
   "outputs": [],
   "source": [
    "num=int(input(\"enter a num: \"))\n",
    "if num%3==0 and num%5==0:\n",
    "    print(\"mult by 3&5 :\")\n",
    "elif num%3==0:\n",
    "    print(\"it mul 3 only :\")\n",
    "elif num%5==0:\n",
    "    print('it numl by 5 only')\n",
    "else:\n",
    "    print(\"fghj\")"
   ]
  },
  {
   "cell_type": "code",
   "execution_count": null,
   "id": "4101ba32",
   "metadata": {},
   "outputs": [],
   "source": []
  }
 ],
 "metadata": {
  "kernelspec": {
   "display_name": "Python 3 (ipykernel)",
   "language": "python",
   "name": "python3"
  },
  "language_info": {
   "codemirror_mode": {
    "name": "ipython",
    "version": 3
   },
   "file_extension": ".py",
   "mimetype": "text/x-python",
   "name": "python",
   "nbconvert_exporter": "python",
   "pygments_lexer": "ipython3",
   "version": "3.11.5"
  }
 },
 "nbformat": 4,
 "nbformat_minor": 5
}
